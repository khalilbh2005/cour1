{
  "nbformat": 4,
  "nbformat_minor": 0,
  "metadata": {
    "colab": {
      "name": "game.ipynb",
      "provenance": [],
      "authorship_tag": "ABX9TyOZKonyUT2kjhCvYSNE4k6U",
      "include_colab_link": true
    },
    "kernelspec": {
      "name": "python3",
      "display_name": "Python 3"
    },
    "language_info": {
      "name": "python"
    }
  },
  "cells": [
    {
      "cell_type": "markdown",
      "metadata": {
        "id": "view-in-github",
        "colab_type": "text"
      },
      "source": [
        "<a href=\"https://colab.research.google.com/github/khalilbh2005/cour1/blob/main/game.ipynb\" target=\"_parent\"><img src=\"https://colab.research.google.com/assets/colab-badge.svg\" alt=\"Open In Colab\"/></a>"
      ]
    },
    {
      "cell_type": "code",
      "metadata": {
        "colab": {
          "base_uri": "https://localhost:8080/"
        },
        "id": "8YW87kb3XJyN",
        "outputId": "03a380ee-09b9-4890-e7d9-9f0206ae6b2b"
      },
      "source": [
        "from random import *\n",
        "rand_num = randint(1000,9999)\n",
        "rand_num = str(rand_num)\n",
        "x = \"xxxx\"\n",
        "while x != rand_num:\n",
        "    user_guess = input(\"votre proposition: \")\n",
        "    o = user_guess.isdigit()\n",
        "    while o != True:\n",
        "        user_guess = input(\"votre proposition: \")\n",
        "        o = user_guess.isdigit()\n",
        "    user_guess = str(user_guess)\n",
        "    finder = rand_num.find(user_guess)\n",
        "    if finder != -1:\n",
        "        x=x[:finder]+user_guess+x[finder+1:]\n",
        "        print(x)\n",
        "    else:\n",
        "        print(x)"
      ],
      "execution_count": 43,
      "outputs": [
        {
          "output_type": "stream",
          "name": "stdout",
          "text": [
            "<class 'str'>\n",
            "votre proposition: 8\n",
            "xxxx\n",
            "votre proposition: 4\n",
            "xxx4\n",
            "votre proposition: 1\n",
            "xxx4\n",
            "votre proposition: 2\n",
            "xxx4\n",
            "votre proposition: 3\n",
            "xxx4\n",
            "votre proposition: 5\n",
            "x5x4\n",
            "votre proposition: 4\n",
            "x5x4\n",
            "votre proposition: 7\n",
            "x574\n",
            "votre proposition: 8\n",
            "x574\n",
            "votre proposition: 9\n",
            "9574\n"
          ]
        }
      ]
    }
  ]
}